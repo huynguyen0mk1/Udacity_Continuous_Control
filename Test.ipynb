{
 "cells": [
  {
   "cell_type": "code",
   "execution_count": null,
   "metadata": {},
   "outputs": [],
   "source": [
    "!pip -q install ."
   ]
  },
  {
   "cell_type": "code",
   "execution_count": null,
   "metadata": {},
   "outputs": [],
   "source": [
    "import torch\n",
    "import pandas as pd\n",
    "from collections import deque\n",
    "import random\n",
    "import matplotlib.pyplot as plt\n",
    "from agent_object import ObjectAgent\n",
    "from unityagents import UnityEnvironment\n",
    "import numpy as np\n",
    "%matplotlib inline"
   ]
  },
  {
   "cell_type": "code",
   "execution_count": null,
   "metadata": {},
   "outputs": [],
   "source": [
    "env = UnityEnvironment(file_name='/data/Reacher_Linux_NoVis/Reacher.x86_64')"
   ]
  },
  {
   "cell_type": "code",
   "execution_count": null,
   "metadata": {},
   "outputs": [],
   "source": [
    "# get the default brain\n",
    "brain_name = env.brain_names[0]\n",
    "brain = env.brains[brain_name]"
   ]
  },
  {
   "cell_type": "code",
   "execution_count": null,
   "metadata": {},
   "outputs": [],
   "source": [
    "# reset the environment\n",
    "env_info = env.reset(train_mode=True)[brain_name]\n",
    "\n",
    "# number of agents\n",
    "data_num_agents = len(env_info.agents)\n",
    "print('Number of agents:', data_num_agents)\n",
    "\n",
    "# size of each action\n",
    "data_action_size = brain.vector_action_space_size\n",
    "print('Size of each action:', data_action_size)\n",
    "\n",
    "# examine the state space \n",
    "data_states = env_info.vector_observations\n",
    "data_state_size = data_states.shape[1]\n",
    "print('There are {} agents. Each observes a state with length: {}'.format(data_states.shape[0], data_state_size))\n",
    "print('The state for the first agent looks like:', data_states[0])"
   ]
  },
  {
   "cell_type": "code",
   "execution_count": null,
   "metadata": {},
   "outputs": [],
   "source": [
    "agent = ObjectAgent(data_state_size=data_state_size, data_action_size=data_action_size,\n",
    "              data_n_agents=data_num_agents, data_random_seed=42)"
   ]
  },
  {
   "cell_type": "code",
   "execution_count": null,
   "metadata": {},
   "outputs": [],
   "source": [
    "agent.data_critic_local.load_state_dict(torch.load('checkpoint_critic.pth'))\n",
    "agent.data_actor_local.load_state_dict(torch.load('checkpoint_actor.pth'))"
   ]
  },
  {
   "cell_type": "code",
   "execution_count": null,
   "metadata": {},
   "outputs": [],
   "source": [
    "def test_ddpg(env, data_agent, data_num_agents, data_max_t=1000):\n",
    "    brain_name = env.brain_names[0]\n",
    "    \n",
    "    env_info = env.reset(train_mode=False)[brain_name]\n",
    "    data_states = env_info.vector_observations  \n",
    "    \n",
    "    data_score = np.zeros(data_num_agents)\n",
    "    for t in range(data_max_t):\n",
    "        data_actions = data_agent.act(data_states, add_noise=False)\n",
    "        \n",
    "        env_info = env.step(data_actions)[brain_name]   \n",
    "        data_next_states = env_info.vector_observations         # get next state (for each agent)\n",
    "        data_rewards = env_info.rewards                         # get reward (for each agent)\n",
    "        data_dones = env_info.local_done                        # see if episode finished\n",
    "\n",
    "        data_agent.step(data_states, data_actions, data_rewards, data_next_states, data_dones)\n",
    "        data_states = data_next_states\n",
    "        data_score += data_rewards\n",
    "        if any(data_dones):\n",
    "            break\n",
    "    print(\"Score of this episode is: %.2f\" % np.mean(data_score))  "
   ]
  },
  {
   "cell_type": "code",
   "execution_count": null,
   "metadata": {},
   "outputs": [],
   "source": [
    "test_ddpg(env, agent, data_num_agents)"
   ]
  },
  {
   "cell_type": "code",
   "execution_count": null,
   "metadata": {},
   "outputs": [],
   "source": [
    "env.close()"
   ]
  }
 ],
 "metadata": {
  "language_info": {
   "name": "python"
  }
 },
 "nbformat": 4,
 "nbformat_minor": 2
}
